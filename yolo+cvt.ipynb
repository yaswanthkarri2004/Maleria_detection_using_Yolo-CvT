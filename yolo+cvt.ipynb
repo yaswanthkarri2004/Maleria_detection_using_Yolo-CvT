{
  "cells": [
    {
      "cell_type": "markdown",
      "metadata": {
        "id": "view-in-github",
        "colab_type": "text"
      },
      "source": [
        "<a href=\"https://colab.research.google.com/github/yaswanthkarri2004/Maleria_detection_using_Yolo-CvT/blob/main/yolo%2Bcvt.ipynb\" target=\"_parent\"><img src=\"https://colab.research.google.com/assets/colab-badge.svg\" alt=\"Open In Colab\"/></a>"
      ]
    },
    {
      "cell_type": "code",
      "execution_count": null,
      "metadata": {
        "id": "yuP1TUEJjoUS"
      },
      "outputs": [],
      "source": [
        "from google.colab import drive\n",
        "drive.mount('/content/drive')"
      ]
    },
    {
      "cell_type": "code",
      "execution_count": null,
      "metadata": {
        "id": "g1pZjRwYlEyh"
      },
      "outputs": [],
      "source": [
        "!pip install torch torchvision transformers ultralytics opencv-python pillow\n"
      ]
    },
    {
      "cell_type": "code",
      "execution_count": null,
      "metadata": {
        "colab": {
          "background_save": true,
          "base_uri": "https://localhost:8080/"
        },
        "id": "6v0m6EMnqYpK",
        "outputId": "eaf40bfe-afe5-4177-aa61-c9473312aef8"
      },
      "outputs": [
        {
          "name": "stdout",
          "output_type": "stream",
          "text": [
            "Cloning into 'yolov5'...\n",
            "remote: Enumerating objects: 17410, done.\u001b[K\n",
            "remote: Counting objects: 100% (90/90), done.\u001b[K\n",
            "remote: Compressing objects: 100% (68/68), done.\u001b[K\n",
            "remote: Total 17410 (delta 63), reused 22 (delta 22), pack-reused 17320 (from 3)\u001b[K\n",
            "Receiving objects: 100% (17410/17410), 16.29 MiB | 11.42 MiB/s, done.\n",
            "Resolving deltas: 100% (11926/11926), done.\n",
            "/content/yolov5/yolov5\n",
            "Requirement already satisfied: gitpython>=3.1.30 in /usr/local/lib/python3.11/dist-packages (from -r requirements.txt (line 5)) (3.1.44)\n",
            "Requirement already satisfied: matplotlib>=3.3 in /usr/local/lib/python3.11/dist-packages (from -r requirements.txt (line 6)) (3.10.0)\n",
            "Requirement already satisfied: numpy>=1.23.5 in /usr/local/lib/python3.11/dist-packages (from -r requirements.txt (line 7)) (2.0.2)\n",
            "Requirement already satisfied: opencv-python>=4.1.1 in /usr/local/lib/python3.11/dist-packages (from -r requirements.txt (line 8)) (4.11.0.86)\n",
            "Requirement already satisfied: pillow>=10.3.0 in /usr/local/lib/python3.11/dist-packages (from -r requirements.txt (line 9)) (11.1.0)\n",
            "Requirement already satisfied: psutil in /usr/local/lib/python3.11/dist-packages (from -r requirements.txt (line 10)) (5.9.5)\n",
            "Requirement already satisfied: PyYAML>=5.3.1 in /usr/local/lib/python3.11/dist-packages (from -r requirements.txt (line 11)) (6.0.2)\n",
            "Requirement already satisfied: requests>=2.32.2 in /usr/local/lib/python3.11/dist-packages (from -r requirements.txt (line 12)) (2.32.3)\n",
            "Requirement already satisfied: scipy>=1.4.1 in /usr/local/lib/python3.11/dist-packages (from -r requirements.txt (line 13)) (1.14.1)\n",
            "Requirement already satisfied: thop>=0.1.1 in /usr/local/lib/python3.11/dist-packages (from -r requirements.txt (line 14)) (0.1.1.post2209072238)\n",
            "Requirement already satisfied: torch>=1.8.0 in /usr/local/lib/python3.11/dist-packages (from -r requirements.txt (line 15)) (2.6.0+cu124)\n",
            "Requirement already satisfied: torchvision>=0.9.0 in /usr/local/lib/python3.11/dist-packages (from -r requirements.txt (line 16)) (0.21.0+cu124)\n",
            "Requirement already satisfied: tqdm>=4.66.3 in /usr/local/lib/python3.11/dist-packages (from -r requirements.txt (line 17)) (4.67.1)\n",
            "Requirement already satisfied: ultralytics>=8.2.34 in /usr/local/lib/python3.11/dist-packages (from -r requirements.txt (line 18)) (8.3.111)\n",
            "Requirement already satisfied: pandas>=1.1.4 in /usr/local/lib/python3.11/dist-packages (from -r requirements.txt (line 27)) (2.2.2)\n",
            "Requirement already satisfied: seaborn>=0.11.0 in /usr/local/lib/python3.11/dist-packages (from -r requirements.txt (line 28)) (0.13.2)\n",
            "Requirement already satisfied: setuptools>=70.0.0 in /usr/local/lib/python3.11/dist-packages (from -r requirements.txt (line 42)) (75.2.0)\n",
            "Requirement already satisfied: gitdb<5,>=4.0.1 in /usr/local/lib/python3.11/dist-packages (from gitpython>=3.1.30->-r requirements.txt (line 5)) (4.0.12)\n",
            "Requirement already satisfied: contourpy>=1.0.1 in /usr/local/lib/python3.11/dist-packages (from matplotlib>=3.3->-r requirements.txt (line 6)) (1.3.2)\n",
            "Requirement already satisfied: cycler>=0.10 in /usr/local/lib/python3.11/dist-packages (from matplotlib>=3.3->-r requirements.txt (line 6)) (0.12.1)\n",
            "Requirement already satisfied: fonttools>=4.22.0 in /usr/local/lib/python3.11/dist-packages (from matplotlib>=3.3->-r requirements.txt (line 6)) (4.57.0)\n",
            "Requirement already satisfied: kiwisolver>=1.3.1 in /usr/local/lib/python3.11/dist-packages (from matplotlib>=3.3->-r requirements.txt (line 6)) (1.4.8)\n",
            "Requirement already satisfied: packaging>=20.0 in /usr/local/lib/python3.11/dist-packages (from matplotlib>=3.3->-r requirements.txt (line 6)) (24.2)\n",
            "Requirement already satisfied: pyparsing>=2.3.1 in /usr/local/lib/python3.11/dist-packages (from matplotlib>=3.3->-r requirements.txt (line 6)) (3.2.3)\n",
            "Requirement already satisfied: python-dateutil>=2.7 in /usr/local/lib/python3.11/dist-packages (from matplotlib>=3.3->-r requirements.txt (line 6)) (2.8.2)\n",
            "Requirement already satisfied: charset-normalizer<4,>=2 in /usr/local/lib/python3.11/dist-packages (from requests>=2.32.2->-r requirements.txt (line 12)) (3.4.1)\n",
            "Requirement already satisfied: idna<4,>=2.5 in /usr/local/lib/python3.11/dist-packages (from requests>=2.32.2->-r requirements.txt (line 12)) (3.10)\n",
            "Requirement already satisfied: urllib3<3,>=1.21.1 in /usr/local/lib/python3.11/dist-packages (from requests>=2.32.2->-r requirements.txt (line 12)) (2.3.0)\n",
            "Requirement already satisfied: certifi>=2017.4.17 in /usr/local/lib/python3.11/dist-packages (from requests>=2.32.2->-r requirements.txt (line 12)) (2025.1.31)\n",
            "Requirement already satisfied: filelock in /usr/local/lib/python3.11/dist-packages (from torch>=1.8.0->-r requirements.txt (line 15)) (3.18.0)\n",
            "Requirement already satisfied: typing-extensions>=4.10.0 in /usr/local/lib/python3.11/dist-packages (from torch>=1.8.0->-r requirements.txt (line 15)) (4.13.2)\n",
            "Requirement already satisfied: networkx in /usr/local/lib/python3.11/dist-packages (from torch>=1.8.0->-r requirements.txt (line 15)) (3.4.2)\n",
            "Requirement already satisfied: jinja2 in /usr/local/lib/python3.11/dist-packages (from torch>=1.8.0->-r requirements.txt (line 15)) (3.1.6)\n",
            "Requirement already satisfied: fsspec in /usr/local/lib/python3.11/dist-packages (from torch>=1.8.0->-r requirements.txt (line 15)) (2025.3.2)\n",
            "Requirement already satisfied: nvidia-cuda-nvrtc-cu12==12.4.127 in /usr/local/lib/python3.11/dist-packages (from torch>=1.8.0->-r requirements.txt (line 15)) (12.4.127)\n",
            "Requirement already satisfied: nvidia-cuda-runtime-cu12==12.4.127 in /usr/local/lib/python3.11/dist-packages (from torch>=1.8.0->-r requirements.txt (line 15)) (12.4.127)\n",
            "Requirement already satisfied: nvidia-cuda-cupti-cu12==12.4.127 in /usr/local/lib/python3.11/dist-packages (from torch>=1.8.0->-r requirements.txt (line 15)) (12.4.127)\n",
            "Requirement already satisfied: nvidia-cudnn-cu12==9.1.0.70 in /usr/local/lib/python3.11/dist-packages (from torch>=1.8.0->-r requirements.txt (line 15)) (9.1.0.70)\n",
            "Requirement already satisfied: nvidia-cublas-cu12==12.4.5.8 in /usr/local/lib/python3.11/dist-packages (from torch>=1.8.0->-r requirements.txt (line 15)) (12.4.5.8)\n",
            "Requirement already satisfied: nvidia-cufft-cu12==11.2.1.3 in /usr/local/lib/python3.11/dist-packages (from torch>=1.8.0->-r requirements.txt (line 15)) (11.2.1.3)\n",
            "Requirement already satisfied: nvidia-curand-cu12==10.3.5.147 in /usr/local/lib/python3.11/dist-packages (from torch>=1.8.0->-r requirements.txt (line 15)) (10.3.5.147)\n",
            "Requirement already satisfied: nvidia-cusolver-cu12==11.6.1.9 in /usr/local/lib/python3.11/dist-packages (from torch>=1.8.0->-r requirements.txt (line 15)) (11.6.1.9)\n",
            "Requirement already satisfied: nvidia-cusparse-cu12==12.3.1.170 in /usr/local/lib/python3.11/dist-packages (from torch>=1.8.0->-r requirements.txt (line 15)) (12.3.1.170)\n",
            "Requirement already satisfied: nvidia-cusparselt-cu12==0.6.2 in /usr/local/lib/python3.11/dist-packages (from torch>=1.8.0->-r requirements.txt (line 15)) (0.6.2)\n",
            "Requirement already satisfied: nvidia-nccl-cu12==2.21.5 in /usr/local/lib/python3.11/dist-packages (from torch>=1.8.0->-r requirements.txt (line 15)) (2.21.5)\n",
            "Requirement already satisfied: nvidia-nvtx-cu12==12.4.127 in /usr/local/lib/python3.11/dist-packages (from torch>=1.8.0->-r requirements.txt (line 15)) (12.4.127)\n",
            "Requirement already satisfied: nvidia-nvjitlink-cu12==12.4.127 in /usr/local/lib/python3.11/dist-packages (from torch>=1.8.0->-r requirements.txt (line 15)) (12.4.127)\n",
            "Requirement already satisfied: triton==3.2.0 in /usr/local/lib/python3.11/dist-packages (from torch>=1.8.0->-r requirements.txt (line 15)) (3.2.0)\n",
            "Requirement already satisfied: sympy==1.13.1 in /usr/local/lib/python3.11/dist-packages (from torch>=1.8.0->-r requirements.txt (line 15)) (1.13.1)\n",
            "Requirement already satisfied: mpmath<1.4,>=1.1.0 in /usr/local/lib/python3.11/dist-packages (from sympy==1.13.1->torch>=1.8.0->-r requirements.txt (line 15)) (1.3.0)\n",
            "Requirement already satisfied: py-cpuinfo in /usr/local/lib/python3.11/dist-packages (from ultralytics>=8.2.34->-r requirements.txt (line 18)) (9.0.0)\n",
            "Requirement already satisfied: ultralytics-thop>=2.0.0 in /usr/local/lib/python3.11/dist-packages (from ultralytics>=8.2.34->-r requirements.txt (line 18)) (2.0.14)\n",
            "Requirement already satisfied: pytz>=2020.1 in /usr/local/lib/python3.11/dist-packages (from pandas>=1.1.4->-r requirements.txt (line 27)) (2025.2)\n",
            "Requirement already satisfied: tzdata>=2022.7 in /usr/local/lib/python3.11/dist-packages (from pandas>=1.1.4->-r requirements.txt (line 27)) (2025.2)\n",
            "Requirement already satisfied: smmap<6,>=3.0.1 in /usr/local/lib/python3.11/dist-packages (from gitdb<5,>=4.0.1->gitpython>=3.1.30->-r requirements.txt (line 5)) (5.0.2)\n",
            "Requirement already satisfied: six>=1.5 in /usr/local/lib/python3.11/dist-packages (from python-dateutil>=2.7->matplotlib>=3.3->-r requirements.txt (line 6)) (1.17.0)\n",
            "Requirement already satisfied: MarkupSafe>=2.0 in /usr/local/lib/python3.11/dist-packages (from jinja2->torch>=1.8.0->-r requirements.txt (line 15)) (3.0.2)\n"
          ]
        }
      ],
      "source": [
        "!git clone https://github.com/ultralytics/yolov5.git\n",
        "%cd yolov5\n",
        "!pip install -r requirements.txt\n"
      ]
    },
    {
      "cell_type": "code",
      "execution_count": null,
      "metadata": {
        "colab": {
          "base_uri": "https://localhost:8080/",
          "height": 779
        },
        "id": "GN25YNzcVZba",
        "outputId": "8361d78c-e1f7-4e64-a65b-967e26322e77"
      },
      "outputs": [
        {
          "name": "stderr",
          "output_type": "stream",
          "text": [
            "YOLOv5 🚀 v7.0-416-gfe1d4d99 Python-3.11.12 torch-2.6.0+cu124 CPU\n",
            "\n",
            "Fusing layers... \n",
            "Model summary: 157 layers, 7015519 parameters, 0 gradients, 15.8 GFLOPs\n",
            "/usr/local/lib/python3.11/dist-packages/transformers/models/convnext/feature_extraction_convnext.py:28: FutureWarning: The class ConvNextFeatureExtractor is deprecated and will be removed in version 5 of Transformers. Please use ConvNextImageProcessor instead.\n",
            "  warnings.warn(\n"
          ]
        },
        {
          "name": "stdout",
          "output_type": "stream",
          "text": [
            "📂 Upload an image file:\n"
          ]
        },
        {
          "data": {
            "text/html": [
              "\n",
              "     <input type=\"file\" id=\"files-912760a7-0d4b-4216-8aac-a044d7f09257\" name=\"files[]\" multiple disabled\n",
              "        style=\"border:none\" />\n",
              "     <output id=\"result-912760a7-0d4b-4216-8aac-a044d7f09257\">\n",
              "      Upload widget is only available when the cell has been executed in the\n",
              "      current browser session. Please rerun this cell to enable.\n",
              "      </output>\n",
              "      <script>// Copyright 2017 Google LLC\n",
              "//\n",
              "// Licensed under the Apache License, Version 2.0 (the \"License\");\n",
              "// you may not use this file except in compliance with the License.\n",
              "// You may obtain a copy of the License at\n",
              "//\n",
              "//      http://www.apache.org/licenses/LICENSE-2.0\n",
              "//\n",
              "// Unless required by applicable law or agreed to in writing, software\n",
              "// distributed under the License is distributed on an \"AS IS\" BASIS,\n",
              "// WITHOUT WARRANTIES OR CONDITIONS OF ANY KIND, either express or implied.\n",
              "// See the License for the specific language governing permissions and\n",
              "// limitations under the License.\n",
              "\n",
              "/**\n",
              " * @fileoverview Helpers for google.colab Python module.\n",
              " */\n",
              "(function(scope) {\n",
              "function span(text, styleAttributes = {}) {\n",
              "  const element = document.createElement('span');\n",
              "  element.textContent = text;\n",
              "  for (const key of Object.keys(styleAttributes)) {\n",
              "    element.style[key] = styleAttributes[key];\n",
              "  }\n",
              "  return element;\n",
              "}\n",
              "\n",
              "// Max number of bytes which will be uploaded at a time.\n",
              "const MAX_PAYLOAD_SIZE = 100 * 1024;\n",
              "\n",
              "function _uploadFiles(inputId, outputId) {\n",
              "  const steps = uploadFilesStep(inputId, outputId);\n",
              "  const outputElement = document.getElementById(outputId);\n",
              "  // Cache steps on the outputElement to make it available for the next call\n",
              "  // to uploadFilesContinue from Python.\n",
              "  outputElement.steps = steps;\n",
              "\n",
              "  return _uploadFilesContinue(outputId);\n",
              "}\n",
              "\n",
              "// This is roughly an async generator (not supported in the browser yet),\n",
              "// where there are multiple asynchronous steps and the Python side is going\n",
              "// to poll for completion of each step.\n",
              "// This uses a Promise to block the python side on completion of each step,\n",
              "// then passes the result of the previous step as the input to the next step.\n",
              "function _uploadFilesContinue(outputId) {\n",
              "  const outputElement = document.getElementById(outputId);\n",
              "  const steps = outputElement.steps;\n",
              "\n",
              "  const next = steps.next(outputElement.lastPromiseValue);\n",
              "  return Promise.resolve(next.value.promise).then((value) => {\n",
              "    // Cache the last promise value to make it available to the next\n",
              "    // step of the generator.\n",
              "    outputElement.lastPromiseValue = value;\n",
              "    return next.value.response;\n",
              "  });\n",
              "}\n",
              "\n",
              "/**\n",
              " * Generator function which is called between each async step of the upload\n",
              " * process.\n",
              " * @param {string} inputId Element ID of the input file picker element.\n",
              " * @param {string} outputId Element ID of the output display.\n",
              " * @return {!Iterable<!Object>} Iterable of next steps.\n",
              " */\n",
              "function* uploadFilesStep(inputId, outputId) {\n",
              "  const inputElement = document.getElementById(inputId);\n",
              "  inputElement.disabled = false;\n",
              "\n",
              "  const outputElement = document.getElementById(outputId);\n",
              "  outputElement.innerHTML = '';\n",
              "\n",
              "  const pickedPromise = new Promise((resolve) => {\n",
              "    inputElement.addEventListener('change', (e) => {\n",
              "      resolve(e.target.files);\n",
              "    });\n",
              "  });\n",
              "\n",
              "  const cancel = document.createElement('button');\n",
              "  inputElement.parentElement.appendChild(cancel);\n",
              "  cancel.textContent = 'Cancel upload';\n",
              "  const cancelPromise = new Promise((resolve) => {\n",
              "    cancel.onclick = () => {\n",
              "      resolve(null);\n",
              "    };\n",
              "  });\n",
              "\n",
              "  // Wait for the user to pick the files.\n",
              "  const files = yield {\n",
              "    promise: Promise.race([pickedPromise, cancelPromise]),\n",
              "    response: {\n",
              "      action: 'starting',\n",
              "    }\n",
              "  };\n",
              "\n",
              "  cancel.remove();\n",
              "\n",
              "  // Disable the input element since further picks are not allowed.\n",
              "  inputElement.disabled = true;\n",
              "\n",
              "  if (!files) {\n",
              "    return {\n",
              "      response: {\n",
              "        action: 'complete',\n",
              "      }\n",
              "    };\n",
              "  }\n",
              "\n",
              "  for (const file of files) {\n",
              "    const li = document.createElement('li');\n",
              "    li.append(span(file.name, {fontWeight: 'bold'}));\n",
              "    li.append(span(\n",
              "        `(${file.type || 'n/a'}) - ${file.size} bytes, ` +\n",
              "        `last modified: ${\n",
              "            file.lastModifiedDate ? file.lastModifiedDate.toLocaleDateString() :\n",
              "                                    'n/a'} - `));\n",
              "    const percent = span('0% done');\n",
              "    li.appendChild(percent);\n",
              "\n",
              "    outputElement.appendChild(li);\n",
              "\n",
              "    const fileDataPromise = new Promise((resolve) => {\n",
              "      const reader = new FileReader();\n",
              "      reader.onload = (e) => {\n",
              "        resolve(e.target.result);\n",
              "      };\n",
              "      reader.readAsArrayBuffer(file);\n",
              "    });\n",
              "    // Wait for the data to be ready.\n",
              "    let fileData = yield {\n",
              "      promise: fileDataPromise,\n",
              "      response: {\n",
              "        action: 'continue',\n",
              "      }\n",
              "    };\n",
              "\n",
              "    // Use a chunked sending to avoid message size limits. See b/62115660.\n",
              "    let position = 0;\n",
              "    do {\n",
              "      const length = Math.min(fileData.byteLength - position, MAX_PAYLOAD_SIZE);\n",
              "      const chunk = new Uint8Array(fileData, position, length);\n",
              "      position += length;\n",
              "\n",
              "      const base64 = btoa(String.fromCharCode.apply(null, chunk));\n",
              "      yield {\n",
              "        response: {\n",
              "          action: 'append',\n",
              "          file: file.name,\n",
              "          data: base64,\n",
              "        },\n",
              "      };\n",
              "\n",
              "      let percentDone = fileData.byteLength === 0 ?\n",
              "          100 :\n",
              "          Math.round((position / fileData.byteLength) * 100);\n",
              "      percent.textContent = `${percentDone}% done`;\n",
              "\n",
              "    } while (position < fileData.byteLength);\n",
              "  }\n",
              "\n",
              "  // All done.\n",
              "  yield {\n",
              "    response: {\n",
              "      action: 'complete',\n",
              "    }\n",
              "  };\n",
              "}\n",
              "\n",
              "scope.google = scope.google || {};\n",
              "scope.google.colab = scope.google.colab || {};\n",
              "scope.google.colab._files = {\n",
              "  _uploadFiles,\n",
              "  _uploadFilesContinue,\n",
              "};\n",
              "})(self);\n",
              "</script> "
            ],
            "text/plain": [
              "<IPython.core.display.HTML object>"
            ]
          },
          "metadata": {},
          "output_type": "display_data"
        },
        {
          "name": "stdout",
          "output_type": "stream",
          "text": [
            "Saving C113P74ThinF_IMG_20150930_134949_cell_129.png to C113P74ThinF_IMG_20150930_134949_cell_129.png\n",
            "✅ Image uploaded: C113P74ThinF_IMG_20150930_134949_cell_129.png\n",
            "\n",
            "🔹 Input Image:\n"
          ]
        },
        {
          "data": {
            "image/jpeg": "[encoded data removed]",
            "image/png": "[encoded data removed]",
            "text/plain": [
              "<PIL.Image.Image image mode=RGB size=148x136>"
            ]
          },
          "metadata": {},
          "output_type": "display_data"
        },
        {
          "name": "stdout",
          "output_type": "stream",
          "text": [
            "\n",
            "🔹 YOLO Processed Image (Restored to Normal Size):\n"
          ]
        },
        {
          "data": {
            "image/jpeg": "[encoded data removed]",
            "image/png": "[encoded data removed]",
            "text/plain": [
              "<PIL.Image.Image image mode=RGB size=148x136>"
            ]
          },
          "metadata": {},
          "output_type": "display_data"
        },
        {
          "name": "stdout",
          "output_type": "stream",
          "text": [
            "-24.85955810546875 -14.43035888671875 652.3265380859375 650.6141967773438 0.6201906800270081 1.0 rfgdf\n",
            "✅ Detected: Uninfected (1.00)\n",
            "\n",
            "🔹 Final Detection:\n"
          ]
        },
        {
          "data": {
            "image/jpeg": "[encoded data removed]",
            "image/png": "[encoded data removed]",
            "text/plain": [
              "<PIL.Image.Image image mode=RGB size=148x136>"
            ]
          },
          "metadata": {},
          "output_type": "display_data"
        }
      ],
      "source": [
        "import torch\n",
        "import cv2\n",
        "import numpy as np\n",
        "from PIL import Image\n",
        "import torchvision.transforms as transforms\n",
        "from transformers import AutoFeatureExtractor, CvtForImageClassification\n",
        "from yolov5.models.common import DetectMultiBackend\n",
        "from yolov5.utils.general import non_max_suppression\n",
        "from yolov5.utils.torch_utils import select_device\n",
        "from google.colab import files\n",
        "\n",
        "# ✅ Check if running in Google Colab\n",
        "try:\n",
        "    from google.colab.patches import cv2_imshow\n",
        "    colab_mode = True\n",
        "except ImportError:\n",
        "    colab_mode = False\n",
        "\n",
        "# **1️⃣ Load YOLOv5 Model**\n",
        "device = select_device('cuda' if torch.cuda.is_available() else 'cpu')\n",
        "yolo_model = DetectMultiBackend(\"/content/drive/MyDrive/YOLO_Project/exp4/weights/best.pt\", device=device)\n",
        "yolo_model.eval()\n",
        "\n",
        "# **2️⃣ Load CvT Model**\n",
        "cvt_model_name = \"microsoft/cvt-13\"\n",
        "feature_extractor = AutoFeatureExtractor.from_pretrained(cvt_model_name)\n",
        "cvt_model = CvtForImageClassification.from_pretrained(cvt_model_name, ignore_mismatched_sizes=True)\n",
        "cvt_model.classifier = torch.nn.Linear(cvt_model.classifier.in_features, 2)\n",
        "cvt_model.load_state_dict(torch.load(\"/content/drive/MyDrive/CVT/cvt_model2.pth\", map_location=device))\n",
        "cvt_model.to(device)\n",
        "cvt_model.eval()\n",
        "\n",
        "# **Define Class Labels**\n",
        "class_labels = [\"Parasitized\", \"Uninfected\"]\n",
        "\n",
        "# **Define Transform for CvT Model**\n",
        "transform = transforms.Compose([\n",
        "    transforms.Resize((224, 224)),\n",
        "    transforms.ToTensor(),\n",
        "    transforms.Normalize(mean=feature_extractor.image_mean, std=feature_extractor.image_std),\n",
        "])\n",
        "\n",
        "# ✅ Function to Select Image from File Dialog\n",
        "def select_image():\n",
        "    print(\"📂 Upload an image file:\")\n",
        "    uploaded = files.upload()  # Opens file uploader in Colab\n",
        "\n",
        "    if uploaded:\n",
        "        file_path = list(uploaded.keys())[0]  # Get the uploaded file name\n",
        "        print(f\"✅ Image uploaded: {file_path}\")\n",
        "        return file_path\n",
        "    return None\n",
        "\n",
        "# **Function to Process Image and Get Predictions**\n",
        "def detect_and_classify(image_path, output_path=\"output.jpg\"):\n",
        "    # **Load Image**\n",
        "    image = cv2.imread(image_path)\n",
        "    img_rgb = cv2.cvtColor(image, cv2.COLOR_BGR2RGB)\n",
        "    original_size = image.shape[:2]  # (Height, Width)\n",
        "\n",
        "    # ✅ Show Input Image\n",
        "    print(\"\\n🔹 Input Image:\")\n",
        "    if colab_mode:\n",
        "        cv2_imshow(image)\n",
        "    else:\n",
        "        cv2.imshow(\"Input Image\", image)\n",
        "        cv2.waitKey(0)\n",
        "\n",
        "    # **Resize for YOLO and then Restore to Original Size**\n",
        "    img_resized = cv2.resize(img_rgb, (640, 640))\n",
        "    img_resized_back = cv2.resize(img_resized, (original_size[1], original_size[0]))  # Resize back to original\n",
        "\n",
        "    print(\"\\n🔹 YOLO Processed Image (Restored to Normal Size):\")\n",
        "    if colab_mode:\n",
        "        cv2_imshow(img_resized_back)\n",
        "    else:\n",
        "        cv2.imshow(\"YOLO Processed Image\", img_resized_back)\n",
        "        cv2.waitKey(0)\n",
        "\n",
        "    # **Prepare Image for YOLO**\n",
        "    img_tensor = transforms.ToTensor()(Image.fromarray(img_resized)).unsqueeze(0).to(device).float()\n",
        "\n",
        "    with torch.no_grad():\n",
        "        pred = yolo_model(img_tensor)[0]\n",
        "\n",
        "    detections = non_max_suppression(pred, 0.4, 0.5)[0]\n",
        "\n",
        "    if detections is None or len(detections) == 0:\n",
        "        print(\"No objects detected!\")\n",
        "        return\n",
        "\n",
        "    original_image = image.copy()\n",
        "    img_height, img_width = original_image.shape[:2]  # Get image dimensions\n",
        "\n",
        "    for det in detections:\n",
        "        x1, y1, x2, y2, conf, cls = det.tolist()\n",
        "        print(x1, y1, x2, y2, conf, cls,\"rfgdf\")\n",
        "        x1, y1, x2, y2 = map(int, [x1, y1, x2, y2])\n",
        "\n",
        "        # **Ensure Bounding Box is Within Image Bounds**\n",
        "        x1, y1 = max(0, x1), max(0, y1)\n",
        "        x2, y2 = min(img_width - 1, x2), min(img_height - 1, y2)\n",
        "\n",
        "        # **Crop detected region**\n",
        "        cropped = img_rgb[y1:y2, x1:x2]\n",
        "\n",
        "        # ✅ Handle empty crops\n",
        "        if cropped.shape[0] == 0 or cropped.shape[1] == 0:\n",
        "            print(\"Warning: Skipping empty cropped region.\")\n",
        "            continue\n",
        "\n",
        "        cropped_pil = Image.fromarray(cropped)\n",
        "\n",
        "        # **Transform and classify with CvT**\n",
        "        input_tensor = transform(cropped_pil).unsqueeze(0).to(device)\n",
        "        with torch.no_grad():\n",
        "            outputs = cvt_model(input_tensor).logits\n",
        "            predicted_class = torch.argmax(outputs, dim=1).item()\n",
        "            confidence = torch.softmax(outputs, dim=1)[0, predicted_class].item()\n",
        "\n",
        "        # **Get Label**\n",
        "        label = f\"{class_labels[predicted_class]} ({confidence:.2f})\"\n",
        "        print(f\"✅ Detected: {label}\")  # Debugging output\n",
        "\n",
        "        # **Draw Bounding Box and Label on Image**\n",
        "        color = (0, 255, 0) if predicted_class == 1 else (0, 0, 255)  # Green = Uninfected, Red = Parasitized\n",
        "        cv2.rectangle(original_image, (x1, y1), (x2, y2), color, 3)\n",
        "\n",
        "        # ✅ **Fix Text Overlapping / Visibility**\n",
        "        font_scale = max(0.5, min(2, (x2 - x1) / 100))  # Scale text size dynamically\n",
        "        thickness = 2  # Increase thickness\n",
        "        text_size, _ = cv2.getTextSize(label, cv2.FONT_HERSHEY_SIMPLEX, font_scale, thickness)\n",
        "\n",
        "        # **Ensure Label Stays Inside the Image**\n",
        "        text_x = x1\n",
        "        text_y = y1 - 10 if y1 - 10 > text_size[1] else y1 + text_size[1] + 10  # Place inside box if needed\n",
        "\n",
        "        # ✅ Draw Background for Text\n",
        "        cv2.rectangle(original_image, (text_x, text_y - text_size[1] - 5),\n",
        "                      (text_x + text_size[0] + 5, text_y + 5), color, -1)\n",
        "\n",
        "        # ✅ Overlay Text Label\n",
        "        cv2.putText(original_image, label, (text_x, text_y), cv2.FONT_HERSHEY_SIMPLEX, font_scale, (255, 255, 255), thickness)\n",
        "\n",
        "    # **Save and Show Final Image**\n",
        "    cv2.imwrite(output_path, original_image)\n",
        "\n",
        "    print(\"\\n🔹 Final Detection:\")\n",
        "    if colab_mode:\n",
        "        cv2_imshow(original_image)\n",
        "    else:\n",
        "        cv2.imshow(\"Final Detection\", original_image)\n",
        "        cv2.waitKey(0)\n",
        "        cv2.destroyAllWindows()\n",
        "\n",
        "# **Main Function**\n",
        "def main():\n",
        "    img_path = select_image()\n",
        "\n",
        "    if img_path:\n",
        "        detect_and_classify(img_path, \"output.jpg\")\n",
        "\n",
        "# **Run Main Function**\n",
        "main()\n"
      ]
    },
    {
      "cell_type": "code",
      "execution_count": null,
      "metadata": {
        "colab": {
          "base_uri": "https://localhost:8080/",
          "height": 144
        },
        "id": "J0FTmuN08b8Q",
        "outputId": "7d6244c8-6cb7-4536-80e2-745ca134960c"
      },
      "outputs": [
        {
          "data": {
            "image/jpeg": "[encoded data removed]",
            "image/png": "[encoded data removed]",
            "text/plain": [
              "<PIL.JpegImagePlugin.JpegImageFile image mode=RGB size=154x127>"
            ]
          },
          "metadata": {},
          "output_type": "display_data"
        }
      ],
      "source": [
        "from IPython.display import display\n",
        "from PIL import Image\n",
        "\n",
        "final_image = Image.open(\"output.jpg\")\n",
        "display(final_image)\n"
      ]
    },
    {
      "cell_type": "code",
      "execution_count": null,
      "metadata": {
        "colab": {
          "base_uri": "https://localhost:8080/"
        },
        "id": "idQy3tUcXeRH",
        "outputId": "b6ff7565-ae77-4d4d-c21a-04186c8617ac"
      },
      "outputs": [
        {
          "name": "stderr",
          "output_type": "stream",
          "text": [
            "YOLOv5 🚀 v7.0-411-gf4d8a84c Python-3.11.11 torch-2.6.0+cu124 CPU\n",
            "\n",
            "Fusing layers... \n",
            "Model summary: 157 layers, 7015519 parameters, 0 gradients, 15.8 GFLOPs\n",
            "/usr/local/lib/python3.11/dist-packages/transformers/models/convnext/feature_extraction_convnext.py:28: FutureWarning: The class ConvNextFeatureExtractor is deprecated and will be removed in version 5 of Transformers. Please use ConvNextImageProcessor instead.\n",
            "  warnings.warn(\n"
          ]
        },
        {
          "name": "stdout",
          "output_type": "stream",
          "text": [
            "🔍 Processing Parasitized images...\n"
          ]
        },
        {
          "name": "stderr",
          "output_type": "stream",
          "text": [
            " 46%|████▌     | 91/200 [01:19<01:06,  1.64it/s]"
          ]
        },
        {
          "name": "stdout",
          "output_type": "stream",
          "text": [
            "⚠️ No objects detected in /content/drive/MyDrive/YOLO_project/dataset/yolo_subset/images/val/Parasitized/C103P64ThinF_IMG_20150918_165125_cell_166.png\n"
          ]
        },
        {
          "name": "stderr",
          "output_type": "stream",
          "text": [
            " 70%|███████   | 140/200 [01:57<00:36,  1.63it/s]"
          ]
        },
        {
          "name": "stdout",
          "output_type": "stream",
          "text": [
            "⚠️ No objects detected in /content/drive/MyDrive/YOLO_project/dataset/yolo_subset/images/val/Parasitized/C113P74ThinF_IMG_20150930_134949_cell_161.png\n"
          ]
        },
        {
          "name": "stderr",
          "output_type": "stream",
          "text": [
            "100%|██████████| 200/200 [02:44<00:00,  1.22it/s]\n"
          ]
        },
        {
          "name": "stdout",
          "output_type": "stream",
          "text": [
            "🔍 Processing Uninfected images...\n"
          ]
        },
        {
          "name": "stderr",
          "output_type": "stream",
          "text": [
            "  6%|▋         | 13/200 [00:10<01:56,  1.60it/s]"
          ]
        },
        {
          "name": "stdout",
          "output_type": "stream",
          "text": [
            "⚠️ No objects detected in /content/drive/MyDrive/YOLO_project/dataset/yolo_subset/images/val/Uninfected/C100P61ThinF_IMG_20150918_150041_cell_108.png\n"
          ]
        },
        {
          "name": "stderr",
          "output_type": "stream",
          "text": [
            "100%|██████████| 200/200 [02:30<00:00,  1.33it/s]"
          ]
        },
        {
          "name": "stdout",
          "output_type": "stream",
          "text": [
            "\n",
            "✅ Model Accuracy: 0.9370\n",
            "\n",
            "🔹 Classification Report:\n",
            "              precision    recall  f1-score   support\n",
            "\n",
            " Parasitized       0.96      0.92      0.94       212\n",
            "  Uninfected       0.92      0.96      0.94       201\n",
            "\n",
            "    accuracy                           0.94       413\n",
            "   macro avg       0.94      0.94      0.94       413\n",
            "weighted avg       0.94      0.94      0.94       413\n",
            "\n"
          ]
        },
        {
          "name": "stderr",
          "output_type": "stream",
          "text": [
            "\n"
          ]
        }
      ],
      "source": [
        "## Accuracy\n",
        "import torch\n",
        "import cv2\n",
        "import os\n",
        "import numpy as np\n",
        "from PIL import Image\n",
        "import torchvision.transforms as transforms\n",
        "from transformers import AutoFeatureExtractor, CvtForImageClassification\n",
        "from yolov5.models.common import DetectMultiBackend\n",
        "from yolov5.utils.general import non_max_suppression\n",
        "from yolov5.utils.torch_utils import select_device\n",
        "from sklearn.metrics import accuracy_score, classification_report\n",
        "from tqdm import tqdm  # For progress bar\n",
        "\n",
        "# ✅ Load YOLOv5 Model\n",
        "device = select_device('cuda' if torch.cuda.is_available() else 'cpu')\n",
        "yolo_model = DetectMultiBackend(\"/content/drive/MyDrive/YOLO_Project/exp5/weights/best.pt\", device=device)\n",
        "yolo_model.eval()\n",
        "\n",
        "# ✅ Load CvT Model\n",
        "cvt_model_name = \"microsoft/cvt-13\"\n",
        "feature_extractor = AutoFeatureExtractor.from_pretrained(cvt_model_name)\n",
        "cvt_model = CvtForImageClassification.from_pretrained(cvt_model_name, ignore_mismatched_sizes=True)\n",
        "cvt_model.classifier = torch.nn.Linear(cvt_model.classifier.in_features, 2)\n",
        "cvt_model.load_state_dict(torch.load(\"/content/drive/MyDrive/CVT/cvt_model3.pth\", map_location=device))\n",
        "cvt_model.to(device)\n",
        "cvt_model.eval()\n",
        "\n",
        "# ✅ Define Class Labels\n",
        "class_labels = [\"Parasitized\", \"Uninfected\"]\n",
        "\n",
        "# ✅ Define Transform for CvT Model\n",
        "transform = transforms.Compose([\n",
        "    transforms.Resize((224, 224)),\n",
        "    transforms.ToTensor(),\n",
        "    transforms.Normalize(mean=feature_extractor.image_mean, std=feature_extractor.image_std),\n",
        "])\n",
        "\n",
        "# ✅ Function to Process Images and Get Predictions\n",
        "def classify_image(image_path):\n",
        "    image = cv2.imread(image_path)\n",
        "    if image is None:\n",
        "        print(f\"❌ Error: Could not load {image_path}\")\n",
        "        return None\n",
        "\n",
        "    img_rgb = cv2.cvtColor(image, cv2.COLOR_BGR2RGB)\n",
        "    img_resized = cv2.resize(img_rgb, (640, 640))\n",
        "    img_tensor = transforms.ToTensor()(Image.fromarray(img_resized)).unsqueeze(0).to(device).float()\n",
        "\n",
        "    # **Run YOLOv5**\n",
        "    with torch.no_grad():\n",
        "        pred = yolo_model(img_tensor)[0]\n",
        "\n",
        "    detections = non_max_suppression(pred, 0.4, 0.5)[0]\n",
        "\n",
        "    if detections is None or len(detections) == 0:\n",
        "        print(f\"⚠️ No objects detected in {image_path}\")\n",
        "        return None\n",
        "\n",
        "    predictions = []\n",
        "    for det in detections:\n",
        "        x1, y1, x2, y2, conf, cls = map(int, det.tolist()[:6])\n",
        "\n",
        "        # Ensure bounding box is within image bounds\n",
        "        x1, y1 = max(0, x1), max(0, y1)\n",
        "        x2, y2 = min(image.shape[1], x2), min(image.shape[0], y2)\n",
        "\n",
        "        cropped = img_rgb[y1:y2, x1:x2]\n",
        "        if cropped.size == 0:\n",
        "            continue\n",
        "\n",
        "        cropped_pil = Image.fromarray(cropped)\n",
        "        input_tensor = transform(cropped_pil).unsqueeze(0).to(device)\n",
        "\n",
        "        # **Run CvT Model**\n",
        "        with torch.no_grad():\n",
        "            outputs = cvt_model(input_tensor).logits\n",
        "            predicted_class = torch.argmax(outputs, dim=1).item()\n",
        "\n",
        "        predictions.append(predicted_class)\n",
        "\n",
        "    return predictions\n",
        "\n",
        "# ✅ Function to Evaluate Model on Test Dataset\n",
        "def evaluate_model(test_dir):\n",
        "    y_true = []\n",
        "    y_pred = []\n",
        "\n",
        "    for label, class_dir in enumerate([\"Parasitized\", \"Uninfected\"]):\n",
        "        class_path = os.path.join(test_dir, class_dir)\n",
        "        if not os.path.exists(class_path):\n",
        "            print(f\"⚠️ Warning: Directory {class_path} not found!\")\n",
        "            continue\n",
        "\n",
        "        print(f\"🔍 Processing {class_dir} images...\")\n",
        "        for img_file in tqdm(os.listdir(class_path)):\n",
        "            img_path = os.path.join(class_path, img_file)\n",
        "\n",
        "            predictions = classify_image(img_path)\n",
        "            if predictions is not None:\n",
        "                y_true.extend([label] * len(predictions))\n",
        "                y_pred.extend(predictions)\n",
        "\n",
        "    # ✅ Compute Accuracy\n",
        "    accuracy = accuracy_score(y_true, y_pred)\n",
        "    print(f\"\\n✅ Model Accuracy: {accuracy:.4f}\")\n",
        "\n",
        "    # ✅ Print Classification Report\n",
        "    print(\"\\n🔹 Classification Report:\")\n",
        "    print(classification_report(y_true, y_pred, target_names=class_labels))\n",
        "\n",
        "# ✅ Run Model Evaluation on Test Data\n",
        "test_data_path = \"/content/drive/MyDrive/YOLO_project/dataset/yolo_subset/images/val\"\n",
        "evaluate_model(test_data_path)\n"
      ]
    },
    {
      "cell_type": "markdown",
      "metadata": {
        "id": "VQpcAEHXsSv0"
      },
      "source": [
        "1. Yolo : exp4, CVT : 1, Accuracy : 84.9%\n",
        "2. Yolo : exp5, CVT : 3, Accuracy : 93.7%\n",
        "3. Yolo : exp5, CVT : 2, Accuracy : 86.4%\n",
        "3. Yolo : exp6, CVT : 4, Accuracy : 91%\n",
        "4. Yolo : exp5, CVT : 4, Accuracy : 91.5%\n",
        "5. Yolo : exp4, CVT : 2, Accuracy : 94.39%"
      ]
    }
  ],
  "metadata": {
    "colab": {
      "provenance": [],
      "authorship_tag": "ABX9TyODj6DpDaJ/TS/FNylemlr9",
      "include_colab_link": true
    },
    "kernelspec": {
      "display_name": "Python 3",
      "name": "python3"
    },
    "language_info": {
      "name": "python"
    }
  },
  "nbformat": 4,
  "nbformat_minor": 0
}